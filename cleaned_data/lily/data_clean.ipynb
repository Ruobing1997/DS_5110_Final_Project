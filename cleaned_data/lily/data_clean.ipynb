{
 "cells": [
  {
   "cell_type": "code",
   "execution_count": 17,
   "id": "87beab83-ceea-4cb0-a4da-97d061ab741a",
   "metadata": {},
   "outputs": [],
   "source": [
    "# WPV Data Cleaning Notebook - For Lily\n",
    "\n",
    "import pandas as pd\n",
    "import numpy as np\n",
    "from datetime import datetime\n",
    "import matplotlib.pyplot as plt"
   ]
  },
  {
   "cell_type": "code",
   "execution_count": 18,
   "id": "3a265d4a-48b3-4a23-890b-547ff0250e9f",
   "metadata": {},
   "outputs": [],
   "source": [
    "# Load raw data files directly from the prepare folder\n",
    "df_phase1 = pd.read_excel(\"../../prepare/WVP Data Collection - Phase I - M.xlsm\", sheet_name=0, skiprows=1)\n",
    "df_december = pd.read_excel(\"../../prepare/MH December 2024 Data.xlsx\", sheet_name=\"MHA WPV Data Export December 20\", header=4)\n",
    "df_aug_oct = pd.read_excel(\"../../prepare/MHA WPV events August through October 2024.xlsx\", sheet_name=\"MHA WPV events August through O\", header=1)\n",
    "\n",
    "# Add source labels\n",
    "df_phase1['source'] = 'phase1'\n",
    "df_december['source'] = 'december'\n",
    "df_aug_oct['source'] = 'aug_oct'"
   ]
  },
  {
   "cell_type": "code",
   "execution_count": 19,
   "id": "43a93b25-b401-4c1b-a192-898a55fff1b9",
   "metadata": {},
   "outputs": [],
   "source": [
    "# ========== Mapping Dictionary ==========\n",
    "map_common = {\n",
    "    'Event Date': 'event_time',\n",
    "    'Occupational Category of Person Affected': 'victim_profession',\n",
    "    'Department/Office Incident Took Place': 'department',\n",
    "    'Aggressor': 'perpetrator_type',\n",
    "    'Type of Violence': 'violence_type',\n",
    "    'Severity of Assault': 'severity',\n",
    "    'Emotional and/ or Psychological Impact': 'emotional_impact',\n",
    "    'Level of Care Needed': 'physical_injury_level',\n",
    "    'Primary Assault Description': 'assault_desc',\n",
    "    'Assault Description1': 'assault_detail',\n",
    "    'Response Action Taken': 'response_action',\n",
    "    'Primary Contributing Factors': 'contributing_factors',\n",
    "    'Incident #': 'incident_id'\n",
    "}\n",
    "\n",
    "map_aug_oct = {\n",
    "    'victim_profession': 'victim_profession',\n",
    "    'victim_primary_job': 'victim_primary_job',\n",
    "    'event_time': 'event_time',\n",
    "    'violence_type': 'violence_type',\n",
    "    'contributing_factors': 'contributing_factors',\n",
    "    'emotional_impact': 'emotional_impact',\n",
    "    'severity': 'severity',\n",
    "    'severity_level': 'severity_level',\n",
    "    'department': 'department',\n",
    "    'response_action': 'response_action',\n",
    "    'perpetrator_type': 'perpetrator_type',\n",
    "    'assault_desc': 'assault_desc',\n",
    "    'osha_recordable': 'osha_recordable',\n",
    "    'days_missed': 'days_missed'\n",
    "}"
   ]
  },
  {
   "cell_type": "code",
   "execution_count": 20,
   "id": "86dcd5f5-b80a-4846-aea7-d1b3b7c6cbf9",
   "metadata": {},
   "outputs": [],
   "source": [
    "# ========== Preprocessing ==========\n",
    "df_phase1['victim_primary_job'] = df_phase1['Occupational Category of Person Affected'].astype(str).str.split(',').str[0].str.strip()\n",
    "df_december['victim_primary_job'] = df_december['Occupational Category of Person Affected'].astype(str).str.split(',').str[0].str.strip()\n",
    "\n",
    "# Optional severity normalization function\n",
    "def standardize_severity(value):\n",
    "    if pd.isna(value):\n",
    "        return 'Unknown'\n",
    "    value = str(value).lower()\n",
    "    if 'none' in value:\n",
    "        return 'None'\n",
    "    elif 'mild' in value:\n",
    "        return 'Mild'\n",
    "    elif 'moderate' in value:\n",
    "        return 'Moderate'\n",
    "    elif 'severe' in value:\n",
    "        return 'Severe'\n",
    "    else:\n",
    "        return 'Unknown'"
   ]
  },
  {
   "cell_type": "code",
   "execution_count": 21,
   "id": "cce178bd-fd7c-4869-a3bc-cc7ae1b157a2",
   "metadata": {},
   "outputs": [],
   "source": [
    "# Apply severity mapping if necessary\n",
    "df_phase1['severity_level'] = df_phase1['Severity of Assault'].apply(standardize_severity)\n",
    "df_december['severity_level'] = df_december['Severity of Assault'].apply(standardize_severity)"
   ]
  },
  {
   "cell_type": "code",
   "execution_count": 22,
   "id": "399e6829-9cdd-43a4-b341-e87f574c46ae",
   "metadata": {},
   "outputs": [],
   "source": [
    "# ========== Rename columns ==========\n",
    "df_phase1 = df_phase1.rename(columns=map_common)\n",
    "df_december = df_december.rename(columns=map_common)\n",
    "df_aug_oct = df_aug_oct.rename(columns=map_aug_oct)"
   ]
  },
  {
   "cell_type": "code",
   "execution_count": 23,
   "id": "8e0f1436-79a5-4676-ac4e-ce760f173af0",
   "metadata": {},
   "outputs": [],
   "source": [
    "# ========== Combine All ==========\n",
    "df_all = pd.concat([df_phase1, df_december, df_aug_oct], ignore_index=True)"
   ]
  },
  {
   "cell_type": "code",
   "execution_count": 16,
   "id": "8a3dc0e2-b3a6-441a-b1f1-0ba94a2c23d6",
   "metadata": {},
   "outputs": [
    {
     "name": "stdout",
     "output_type": "stream",
     "text": [
      "✅ Cleaned & merged WPV dataset saved for Lily from original prepare files.\n"
     ]
    }
   ],
   "source": [
    "# ========== Save Final Merged Dataset ==========\n",
    "df_all.to_csv(\"../../cleaned_data/lily/merged_wpv_cleaned.csv\", index=False)\n",
    "print(\"✅ Cleaned & merged WPV dataset saved for Lily from original prepare files.\")"
   ]
  }
 ],
 "metadata": {
  "kernelspec": {
   "display_name": "Python 3 (ipykernel)",
   "language": "python",
   "name": "python3"
  },
  "language_info": {
   "codemirror_mode": {
    "name": "ipython",
    "version": 3
   },
   "file_extension": ".py",
   "mimetype": "text/x-python",
   "name": "python",
   "nbconvert_exporter": "python",
   "pygments_lexer": "ipython3",
   "version": "3.12.8"
  }
 },
 "nbformat": 4,
 "nbformat_minor": 5
}
